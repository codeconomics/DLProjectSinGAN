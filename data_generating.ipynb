{
 "cells": [
  {
   "cell_type": "code",
   "execution_count": 16,
   "metadata": {},
   "outputs": [],
   "source": [
    "from mnist import MNIST\n",
    "import numpy as np\n",
    "import cv2\n",
    "import matplotlib.pyplot as plt"
   ]
  },
  {
   "cell_type": "code",
   "execution_count": 17,
   "metadata": {},
   "outputs": [],
   "source": [
    "mndata = MNIST('Data/MNIST')\n",
    "X_train, y_train = mndata.load_training()\n",
    "CHANNELS = 3"
   ]
  },
  {
   "cell_type": "code",
   "execution_count": 18,
   "metadata": {},
   "outputs": [],
   "source": [
    "X_train = np.array(X_train).reshape(60000,28,28)\n",
    "y_train = np.array(y_train)"
   ]
  },
  {
   "cell_type": "code",
   "execution_count": 72,
   "metadata": {},
   "outputs": [],
   "source": [
    "unique_list = np.unique(y_train,return_index=True)[1]"
   ]
  },
  {
   "cell_type": "code",
   "execution_count": 6,
   "metadata": {},
   "outputs": [],
   "source": [
    "for i in unique_list:\n",
    "    image = X_train[i]\n",
    "    image = np.stack((image,)*CHANNELS, axis=-1)\n",
    "    cv2.imwrite(f\"MNIST_{y_train[i]}_input_0.png\", image)"
   ]
  },
  {
   "cell_type": "code",
   "execution_count": 87,
   "metadata": {},
   "outputs": [],
   "source": [
    "#np random seed cannot maintain reproductivity for difference dimension arrays\n",
    "index = np.arange(len(y_train))\n",
    "for i in range(1,5):\n",
    "    np.random.seed(i)\n",
    "    np.random.shuffle(index)   \n",
    "    y_shuffle = y_train[index]\n",
    "    X_shuffle = X_train[index]\n",
    "    unique_list = np.unique(y_shuffle,return_index=True)[1]\n",
    "    for j in unique_list:\n",
    "        image = X_shuffle[j]\n",
    "        image = np.stack((image,)*CHANNELS, axis=-1)\n",
    "        cv2.imwrite(f\"MNIST_{y_shuffle[j]}_input_{i}.png\", image)"
   ]
  },
  {
   "cell_type": "code",
   "execution_count": 22,
   "metadata": {},
   "outputs": [],
   "source": [
    "X_train_2 = X_train[y_train == 2]\n",
    "np.random.shuffle(X_train_2)\n",
    "X_train_4 = X_train[y_train == 4]\n",
    "np.random.shuffle(X_train_4)\n",
    "X_train_7 = X_train[y_train == 7]\n",
    "np.random.shuffle(X_train_7)"
   ]
  },
  {
   "cell_type": "code",
   "execution_count": 26,
   "metadata": {},
   "outputs": [],
   "source": [
    "for i in range(150):\n",
    "    image = X_train_7[i]\n",
    "    image = np.stack((image,)*CHANNELS, axis=-1)\n",
    "    cv2.imwrite(f\"MNIST_7_input_{i}.png\", image)"
   ]
  },
  {
   "cell_type": "code",
   "execution_count": 12,
   "metadata": {},
   "outputs": [
    {
     "name": "stdout",
     "output_type": "stream",
     "text": [
      "Random Seed:  1\n",
      "MNIST_3_input_0.png\n",
      "/home/jupyter/output/MNIST_3_input_0.png/layer=6, additional_scale=False, iteration=2000, scale_factor=0.75, alpha=10\n",
      "Random Seed:  1\n",
      "MNIST_3_input_1.png\n",
      "/home/jupyter/output/MNIST_3_input_1.png/layer=6, additional_scale=False, iteration=2000, scale_factor=0.75, alpha=10\n",
      "Random Seed:  1\n",
      "MNIST_3_input_2.png\n",
      "/home/jupyter/output/MNIST_3_input_2.png/layer=6, additional_scale=False, iteration=2000, scale_factor=0.75, alpha=10\n",
      "Random Seed:  1\n",
      "MNIST_3_input_3.png\n",
      "/home/jupyter/output/MNIST_3_input_3.png/layer=6, additional_scale=False, iteration=2000, scale_factor=0.75, alpha=10\n",
      "Random Seed:  1\n",
      "MNIST_3_input_4.png\n",
      "/home/jupyter/output/MNIST_3_input_4.png/layer=6, additional_scale=False, iteration=2000, scale_factor=0.75, alpha=10\n"
     ]
    }
   ],
   "source": [
    "import MNIST_SinGAN\n",
    "a = MNIST_SinGAN.generate_data(class_label = 3)"
   ]
  },
  {
   "cell_type": "code",
   "execution_count": 5,
   "metadata": {},
   "outputs": [],
   "source": [
    "X_train_8 = X_train[y_train == 8]"
   ]
  },
  {
   "cell_type": "code",
   "execution_count": 6,
   "metadata": {},
   "outputs": [],
   "source": [
    "np.random.shuffle(X_train_8)"
   ]
  },
  {
   "cell_type": "code",
   "execution_count": 12,
   "metadata": {},
   "outputs": [],
   "source": [
    "for i in range(1,150):\n",
    "    image = X_train_8[i]\n",
    "    image = np.stack((image,)*CHANNELS, axis=-1)\n",
    "    cv2.imwrite(f\"MNIST_8_input_{i}.png\", image)"
   ]
  },
  {
   "cell_type": "code",
   "execution_count": 4,
   "metadata": {},
   "outputs": [],
   "source": [
    "from random import randint"
   ]
  },
  {
   "cell_type": "code",
   "execution_count": 1,
   "metadata": {},
   "outputs": [],
   "source": [
    "from cifar10_web import cifar10\n",
    "import numpy as np\n",
    "from skimage import io as img"
   ]
  },
  {
   "cell_type": "code",
   "execution_count": 2,
   "metadata": {},
   "outputs": [],
   "source": [
    "X_train, y_train, X_test, y_test = cifar10(path=None)\n",
    "y_train = np.array([np.argmax(a, axis=0) for a in y_train])\n",
    "y_test = np.array([np.argmax(a, axis=0) for a in y_test])"
   ]
  },
  {
   "cell_type": "code",
   "execution_count": null,
   "metadata": {},
   "outputs": [],
   "source": [
    "#np random seed cannot maintain reproductivity for difference dimension arrays\n",
    "index = np.arange(len(y_train))\n",
    "for i in range(0,1):\n",
    "    np.random.seed(i)\n",
    "    np.random.shuffle(index)   \n",
    "    y_shuffle = y_train[index]\n",
    "    X_shuffle = X_train[index]\n",
    "    unique_list = np.unique(y_shuffle,return_index=True)[1]\n",
    "    for j in unique_list:\n",
    "        image = X_shuffle[j].reshape(3,32,32).transpose(1,2,0)\n",
    "        img.imsave(f\"CIFAR10_{y_shuffle[j]}_input_{i}.png\", image)"
   ]
  },
  {
   "cell_type": "code",
   "execution_count": 5,
   "metadata": {},
   "outputs": [],
   "source": [
    "X_train_ = X_train[y_train == 9]"
   ]
  },
  {
   "cell_type": "code",
   "execution_count": null,
   "metadata": {},
   "outputs": [],
   "source": [
    "np.random.shuffle(X_train_)\n",
    "for i in range(150):\n",
    "    image = X_train_[i].reshape(3,32,32).transpose(1,2,0)\n",
    "    img.imsave(f\"CIFAR10_9_input_{i}.png\", image)"
   ]
  },
  {
   "cell_type": "markdown",
   "metadata": {},
   "source": [
    "Download GTRSB file:\n",
    "! curl -O https://sid.erda.dk/public/archives/daaeac0d7ce1152aea9b61d9f1e19370/GTSRB-Training_fixed.zip\n",
    "\n",
    "! unzip GTSRB-Training_fixed.zip"
   ]
  },
  {
   "cell_type": "code",
   "execution_count": 7,
   "metadata": {},
   "outputs": [],
   "source": [
    "import csv\n",
    "from PIL import Image\n",
    "import os \n",
    "import numpy as np\n",
    "\n",
    "def readTrafficSigns(rootpath, output_path):\n",
    "    \n",
    "    images = []\n",
    "    labels = []\n",
    "    # loop over all 42 classes\n",
    "    for c in range(0,43):\n",
    "        prefix = rootpath + '/' + format(c, '05d') + '/' # subdirectory for class\n",
    "        gtFile = open(prefix + 'GT-'+ format(c, '05d') + '.csv') # annotations file\n",
    "        gtReader = csv.reader(gtFile, delimiter=';') # csv parser for annotations file\n",
    "        next(gtReader)\n",
    "        # loop over all images in current annotations file\n",
    "        for row in gtReader:\n",
    "            im = Image.open(prefix + row[0])\n",
    "            im = im.resize((56, 56))\n",
    "            images.append(np.asarray(im))\n",
    "            #im.save(os.path.join(output_path, \"{}_{}.png\".format(c, row[0][:row[0].index('.')])), \"PNG\")\n",
    "            labels.append(row[7]) # the 8th column is the label\n",
    "        gtFile.close()\n",
    "        \n",
    "    return np.asarray(images), np.asarray(labels)\n",
    "\n",
    "input_path = 'GTSRB/Training'\n",
    "output_path = 'GTSRB/Training_png'\n",
    "\n",
    "if not os.path.isdir(output_path):\n",
    "    os.mkdir(output_path, 0o666)\n",
    "    \n",
    "X_train, labels = readTrafficSigns(input_path, output_path)\n",
    "y_train = labels.astype(\"int\")"
   ]
  },
  {
   "cell_type": "code",
   "execution_count": 22,
   "metadata": {},
   "outputs": [],
   "source": [
    "import cv2\n",
    "#np random seed cannot maintain reproductivity for difference dimension arrays\n",
    "index = np.arange(len(y_train))\n",
    "for i in range(0,1):\n",
    "    np.random.seed(i)\n",
    "    np.random.shuffle(index)   \n",
    "    y_shuffle = y_train[index]\n",
    "    X_shuffle = X_train[index]\n",
    "    unique_list = np.unique(y_shuffle,return_index=True)[1]\n",
    "    for j in unique_list:\n",
    "        image = X_shuffle[j]\n",
    "        cv2.imwrite(f\"GTSRB_{y_shuffle[j]}_input_{i}.png\", image)"
   ]
  },
  {
   "cell_type": "code",
   "execution_count": 78,
   "metadata": {},
   "outputs": [],
   "source": [
    "import numpy as np\n",
    "classindex = [np.where(y_train == i)[0] for i in range(42)]\n",
    "for i in classindex:\n",
    "    np.random.shuffle(i)\n",
    "classindex_sample = [i[:150] for i in classindex]"
   ]
  },
  {
   "cell_type": "code",
   "execution_count": null,
   "metadata": {},
   "outputs": [],
   "source": [
    "np.save(\"GTSRB_index.npy\", classindex_sample)"
   ]
  },
  {
   "cell_type": "code",
   "execution_count": 8,
   "metadata": {},
   "outputs": [],
   "source": [
    "classindex_sample = np.load(\"GTSRB_index.npy\")\n",
    "GTSRB_X_sample = [X_train[i] for i in classindex_sample]\n",
    "GTSRB_Y_sample = [y_train[i] for i in classindex_sample]"
   ]
  },
  {
   "cell_type": "code",
   "execution_count": 91,
   "metadata": {},
   "outputs": [
    {
     "data": {
      "text/plain": [
       "(150, 56, 56, 3)"
      ]
     },
     "execution_count": 91,
     "metadata": {},
     "output_type": "execute_result"
    }
   ],
   "source": [
    "GTSRB_X_sample[0].shape"
   ]
  },
  {
   "cell_type": "code",
   "execution_count": 94,
   "metadata": {},
   "outputs": [
    {
     "data": {
      "text/plain": [
       "33"
      ]
     },
     "execution_count": 94,
     "metadata": {},
     "output_type": "execute_result"
    }
   ],
   "source": [
    "import random\n",
    "random.randint(0,42)"
   ]
  },
  {
   "cell_type": "code",
   "execution_count": 12,
   "metadata": {},
   "outputs": [],
   "source": [
    "class15 = GTSRB_X_sample[15]"
   ]
  },
  {
   "cell_type": "code",
   "execution_count": 13,
   "metadata": {},
   "outputs": [],
   "source": [
    "import skimage.io as img\n",
    "for i in range(15):\n",
    "    x = class15[i]\n",
    "    img.imsave(f\"GTSRB_15_input_{i}.png\", x)"
   ]
  },
  {
   "cell_type": "code",
   "execution_count": null,
   "metadata": {},
   "outputs": [],
   "source": []
  }
 ],
 "metadata": {
  "kernelspec": {
   "display_name": "Python 3",
   "language": "python",
   "name": "python3"
  },
  "language_info": {
   "codemirror_mode": {
    "name": "ipython",
    "version": 3
   },
   "file_extension": ".py",
   "mimetype": "text/x-python",
   "name": "python",
   "nbconvert_exporter": "python",
   "pygments_lexer": "ipython3",
   "version": "3.7.6"
  }
 },
 "nbformat": 4,
 "nbformat_minor": 4
}
