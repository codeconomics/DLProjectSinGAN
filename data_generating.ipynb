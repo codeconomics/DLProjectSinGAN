{
 "cells": [
  {
   "cell_type": "code",
   "execution_count": 13,
   "metadata": {},
   "outputs": [],
   "source": [
    "from mnist import MNIST\n",
    "import numpy as np\n",
    "import cv2\n",
    "import matplotlib.pyplot as plt"
   ]
  },
  {
   "cell_type": "code",
   "execution_count": 14,
   "metadata": {},
   "outputs": [],
   "source": [
    "mndata = MNIST('Data/MNIST')\n",
    "X_train, y_train = mndata.load_training()\n",
    "CHANNELS = 3"
   ]
  },
  {
   "cell_type": "code",
   "execution_count": 15,
   "metadata": {},
   "outputs": [],
   "source": [
    "X_train = np.array(X_train).reshape(60000,28,28)\n",
    "y_train = np.array(y_train)"
   ]
  },
  {
   "cell_type": "code",
   "execution_count": 72,
   "metadata": {},
   "outputs": [],
   "source": [
    "unique_list = np.unique(y_train,return_index=True)[1]"
   ]
  },
  {
   "cell_type": "code",
   "execution_count": 6,
   "metadata": {},
   "outputs": [],
   "source": [
    "for i in unique_list:\n",
    "    image = X_train[i]\n",
    "    image = np.stack((image,)*CHANNELS, axis=-1)\n",
    "    cv2.imwrite(f\"MNIST_{y_train[i]}_input_0.png\", image)"
   ]
  },
  {
   "cell_type": "code",
   "execution_count": 87,
   "metadata": {},
   "outputs": [],
   "source": [
    "#np random seed cannot maintain reproductivity for difference dimension arrays\n",
    "index = np.arange(len(y_train))\n",
    "for i in range(1,5):\n",
    "    np.random.seed(i)\n",
    "    np.random.shuffle(index)   \n",
    "    y_shuffle = y_train[index]\n",
    "    X_shuffle = X_train[index]\n",
    "    unique_list = np.unique(y_shuffle,return_index=True)[1]\n",
    "    for j in unique_list:\n",
    "        image = X_shuffle[j]\n",
    "        image = np.stack((image,)*CHANNELS, axis=-1)\n",
    "        cv2.imwrite(f\"MNIST_{y_shuffle[j]}_input_{i}.png\", image)"
   ]
  },
  {
   "cell_type": "code",
   "execution_count": 12,
   "metadata": {},
   "outputs": [
    {
     "name": "stdout",
     "output_type": "stream",
     "text": [
      "Random Seed:  1\n",
      "MNIST_3_input_0.png\n",
      "/home/jupyter/output/MNIST_3_input_0.png/layer=6, additional_scale=False, iteration=2000, scale_factor=0.75, alpha=10\n",
      "Random Seed:  1\n",
      "MNIST_3_input_1.png\n",
      "/home/jupyter/output/MNIST_3_input_1.png/layer=6, additional_scale=False, iteration=2000, scale_factor=0.75, alpha=10\n",
      "Random Seed:  1\n",
      "MNIST_3_input_2.png\n",
      "/home/jupyter/output/MNIST_3_input_2.png/layer=6, additional_scale=False, iteration=2000, scale_factor=0.75, alpha=10\n",
      "Random Seed:  1\n",
      "MNIST_3_input_3.png\n",
      "/home/jupyter/output/MNIST_3_input_3.png/layer=6, additional_scale=False, iteration=2000, scale_factor=0.75, alpha=10\n",
      "Random Seed:  1\n",
      "MNIST_3_input_4.png\n",
      "/home/jupyter/output/MNIST_3_input_4.png/layer=6, additional_scale=False, iteration=2000, scale_factor=0.75, alpha=10\n"
     ]
    }
   ],
   "source": [
    "import MNIST_SinGAN\n",
    "a = MNIST_SinGAN.generate_data(class_label = 3)"
   ]
  },
  {
   "cell_type": "code",
   "execution_count": 16,
   "metadata": {},
   "outputs": [],
   "source": [
    "X_train_4 = X_train[y_train == 4]"
   ]
  },
  {
   "cell_type": "code",
   "execution_count": 20,
   "metadata": {},
   "outputs": [],
   "source": [
    "np.random.shuffle(X_train_4)"
   ]
  },
  {
   "cell_type": "code",
   "execution_count": 21,
   "metadata": {},
   "outputs": [],
   "source": [
    "for i in range(5,150):\n",
    "    image = X_train_4[i]\n",
    "    image = np.stack((image,)*CHANNELS, axis=-1)\n",
    "    cv2.imwrite(f\"MNIST_4_input_{i}.png\", image)"
   ]
  },
  {
   "cell_type": "code",
   "execution_count": 1,
   "metadata": {},
   "outputs": [],
   "source": [
    "import MNIST_SinGAN"
   ]
  },
  {
   "cell_type": "code",
   "execution_count": null,
   "metadata": {},
   "outputs": [],
   "source": []
  }
 ],
 "metadata": {
  "kernelspec": {
   "display_name": "Python 3",
   "language": "python",
   "name": "python3"
  },
  "language_info": {
   "codemirror_mode": {
    "name": "ipython",
    "version": 3
   },
   "file_extension": ".py",
   "mimetype": "text/x-python",
   "name": "python",
   "nbconvert_exporter": "python",
   "pygments_lexer": "ipython3",
   "version": "3.7.6"
  }
 },
 "nbformat": 4,
 "nbformat_minor": 4
}
