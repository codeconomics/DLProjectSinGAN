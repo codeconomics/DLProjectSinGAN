{
  "nbformat": 4,
  "nbformat_minor": 0,
  "metadata": {
    "colab": {
      "name": "gan.ipynb",
      "provenance": [],
      "collapsed_sections": [],
      "machine_shape": "hm"
    },
    "kernelspec": {
      "name": "python3",
      "display_name": "Python 3"
    },
    "accelerator": "GPU"
  },
  "cells": [
    {
      "cell_type": "code",
      "metadata": {
        "id": "tQYBMHq9euMu",
        "colab_type": "code",
        "colab": {}
      },
      "source": [
        "import tensorflow as tf\n",
        "from tensorflow.keras import layers\n",
        "\n",
        "import matplotlib.pyplot as plt\n",
        "from IPython import display"
      ],
      "execution_count": 0,
      "outputs": []
    },
    {
      "cell_type": "markdown",
      "metadata": {
        "id": "2jHZajuThl0s",
        "colab_type": "text"
      },
      "source": [
        "### Utils"
      ]
    },
    {
      "cell_type": "code",
      "metadata": {
        "id": "GCTH974_hnjA",
        "colab_type": "code",
        "colab": {}
      },
      "source": [
        "class AttrDict(dict):\n",
        "    def __init__(self, *args, **kwargs):\n",
        "        super(*args, **kwargs)\n",
        "        self.__dict__ = self\n",
        "\n",
        "    def print_(self):\n",
        "        print(f\"{'=' * 80}\\n{'Opts'.center(80)}\\n{'-' * 80}\")\n",
        "        for key in self:\n",
        "            if self[key]:\n",
        "                print('{:>30}: {:<30}'.format(key, self[key]).center(80))\n",
        "        print('=' * 80)"
      ],
      "execution_count": 0,
      "outputs": []
    },
    {
      "cell_type": "markdown",
      "metadata": {
        "id": "cMvjw1ule-yW",
        "colab_type": "text"
      },
      "source": [
        "### Load dataset"
      ]
    },
    {
      "cell_type": "code",
      "metadata": {
        "id": "MnFN5JV_fAfL",
        "colab_type": "code",
        "colab": {}
      },
      "source": [
        "def load_dataset(opts):\n",
        "    (train_images, train_labels), (_, _) = tf.keras.datasets.mnist.load_data()\n",
        "    N = train_images.shape[0]   # number of sample\n",
        "    train_images = train_images.reshape(N, 28, 28, 1).astype('float32')\n",
        "    train_images = train_images / 255.0 # Normalize the images to [0, 1]\n",
        "\n",
        "    train_dataset = tf.data.Dataset.from_tensor_slices(train_images).shuffle(N).batch(opts.batch_size)\n",
        "    return train_dataset"
      ],
      "execution_count": 0,
      "outputs": []
    },
    {
      "cell_type": "markdown",
      "metadata": {
        "id": "fu1FzLxBg2FJ",
        "colab_type": "text"
      },
      "source": [
        "### Generator"
      ]
    },
    {
      "cell_type": "code",
      "metadata": {
        "id": "QUtTNC-bg3xU",
        "colab_type": "code",
        "colab": {}
      },
      "source": [
        "def add_upconv2D(model, out_channel=1, kernel_size=(5,5), padding=\"same\", upconv=True, batch_norm=True, ReLu=True, conv=True):\n",
        "    if conv:\n",
        "        model.add(layers.Conv2DTranspose(out_channel, \n",
        "                                        kernel_size,\n",
        "                                        strides=(2, 2) if upconv else (1, 1),\n",
        "                                        padding=padding,\n",
        "                                        use_bias=False))\n",
        "    if batch_norm:\n",
        "        model.add(layers.BatchNormalization())\n",
        "    if ReLu:\n",
        "        model.add(layers.LeakyReLU())\n",
        "\n",
        "\n",
        "def get_generator(noise_size):\n",
        "    G = tf.keras.Sequential()\n",
        "    G.add(layers.Dense(7*7*256, \n",
        "                           use_bias=False, input_shape=(noise_size,)))\n",
        "    \n",
        "    G.add(layers.Reshape((7, 7, 256)))\n",
        "    add_upconv2D(G, conv=False, batch_norm=True, ReLu=True)\n",
        "    add_upconv2D(G, out_channel=128, kernel_size=(5,5), padding=\"same\", upconv=False, batch_norm=True, ReLu=True, conv=True)\n",
        "    add_upconv2D(G, out_channel=64, kernel_size=(5,5), padding=\"same\", upconv=True, batch_norm=True, ReLu=True, conv=True)\n",
        "    add_upconv2D(G, out_channel=1, kernel_size=(5,5), padding=\"same\", upconv=True, batch_norm=True, ReLu=True, conv=True)\n",
        "    \n",
        "    assert G.output_shape == (None, 28, 28, 1)\n",
        "    return G"
      ],
      "execution_count": 0,
      "outputs": []
    },
    {
      "cell_type": "code",
      "metadata": {
        "id": "hY7CoOhTg5P8",
        "colab_type": "code",
        "colab": {}
      },
      "source": [
        "def plot_G_noise(G, noise):\n",
        "    fake_img = G(noise, training=False)\n",
        "    plt.imshow(fake_img[0, :, :, 0]*255.0, cmap='gray')\n",
        "    plt.show()"
      ],
      "execution_count": 0,
      "outputs": []
    },
    {
      "cell_type": "markdown",
      "metadata": {
        "id": "xHdE4g9kg53H",
        "colab_type": "text"
      },
      "source": [
        "### Discriminator"
      ]
    },
    {
      "cell_type": "code",
      "metadata": {
        "id": "2aFk5fpAg8EA",
        "colab_type": "code",
        "colab": {}
      },
      "source": [
        "def add_conv(model, out_channel=1, kernel_size=(5, 5), stride=(2, 2), padding='same', ReLu=True, dropout=None, conv=True):\n",
        "    if conv:\n",
        "        model.add(layers.Conv2D(out_channel, kernel_size, strides=stride, padding=padding))\n",
        "    if ReLu:\n",
        "        model.add(layers.LeakyReLU())\n",
        "    if dropout:\n",
        "        model.add(layers.Dropout(dropout))\n",
        "\n",
        "def get_discriminator():\n",
        "    D = tf.keras.Sequential()\n",
        "    D.add(layers.Conv2D(64, (5, 5), strides=(2, 2), padding='same', input_shape=[28, 28, 1]))\n",
        "    add_conv(D, conv=False, ReLu=True, dropout=0.3)\n",
        "    add_conv(D, out_channel=128, kernel_size=(5, 5), stride=(2, 2), padding='same', ReLu=True, dropout=0.3)\n",
        "    add_conv(D, out_channel=256, kernel_size=(5, 5), stride=(2, 2), padding='same', ReLu=True, dropout=0.3)\n",
        "    \n",
        "    D.add(layers.Flatten())    \n",
        "    D.add(layers.Dense(1))\n",
        "    return D"
      ],
      "execution_count": 0,
      "outputs": []
    },
    {
      "cell_type": "markdown",
      "metadata": {
        "id": "3MuyqTgGg8pb",
        "colab_type": "text"
      },
      "source": [
        "### Training Loop"
      ]
    },
    {
      "cell_type": "code",
      "metadata": {
        "id": "pgviidOQg-Yz",
        "colab_type": "code",
        "colab": {}
      },
      "source": [
        "# define losses\n",
        "ce = tf.keras.losses.BinaryCrossentropy(from_logits=True)\n",
        "\n",
        "def get_G_D(opts):\n",
        "    G = get_generator(opts.g_noise_size)\n",
        "    D = get_discriminator()\n",
        "    return G, D\n",
        "\n",
        "def d_loss(real_img, fake_img):\n",
        "    real_loss = ce(tf.ones_like(real_img), real_img)\n",
        "    fake_loss = ce(tf.zeros_like(fake_img), fake_img)\n",
        "    return real_loss + fake_loss\n",
        "\n",
        "def g_loss(fake_pred):\n",
        "    return ce(tf.ones_like(fake_pred), fake_pred)\n",
        "\n",
        "def get_optimizers(opts):\n",
        "    G_optim = tf.keras.optimizers.Adam(opts.g_lr)\n",
        "    D_optim = tf.keras.optimizers.Adam(opts.d_lr)\n",
        "    return G_optim, D_optim\n",
        "\n",
        "@tf.function\n",
        "def training_loop(G, D, G_optim, D_optim, batch, opts):\n",
        "    noise_sample = tf.random.normal([opts.batch_size, opts.g_noise_size])\n",
        "\n",
        "    with tf.GradientTape() as G_tape, tf.GradientTape() as D_tape:\n",
        "        fake_img = G(noise_sample, training=True)\n",
        "\n",
        "        real_pred = D(batch, training=True)\n",
        "        fake_pred = D(fake_img, training=True)\n",
        "        G_loss = g_loss(fake_pred)\n",
        "        D_loss = d_loss(real_pred, fake_pred)\n",
        "    \n",
        "    G_grad = G_tape.gradient(G_loss, G.trainable_variables)\n",
        "    D_grad = D_tape.gradient(D_loss, D.trainable_variables)\n",
        "    G_optim.apply_gradients(zip(G_grad, G.trainable_variables))\n",
        "    D_optim.apply_gradients(zip(D_grad, D.trainable_variables))\n",
        "\n",
        "def train_model(opts):\n",
        "    G, D = get_G_D(opts)\n",
        "    G_optim, D_optim = get_optimizers(opts)\n",
        "    dataset = load_dataset(opts)\n",
        "\n",
        "    fix_noise = tf.random.normal([opts.num_fix_samples, opts.g_noise_size])\n",
        "\n",
        "    for epoch in range(opts.epochs):\n",
        "        \n",
        "        for batch in dataset:\n",
        "            try:\n",
        "                training_loop(G, D, G_optim, D_optim, batch, opts)\n",
        "            except KeyboardInterrupt:\n",
        "                print('Exiting early from training.')\n",
        "                return G, D\n",
        "        display.clear_output(wait=True)\n",
        "        plot_G_noise(G, fix_noise)\n",
        "    return G, D"
      ],
      "execution_count": 0,
      "outputs": []
    },
    {
      "cell_type": "code",
      "metadata": {
        "id": "wua6xzxXg-x9",
        "colab_type": "code",
        "colab": {}
      },
      "source": [
        ""
      ],
      "execution_count": 0,
      "outputs": []
    },
    {
      "cell_type": "markdown",
      "metadata": {
        "id": "KkbHQh6khgFv",
        "colab_type": "text"
      },
      "source": [
        "### Train"
      ]
    },
    {
      "cell_type": "code",
      "metadata": {
        "id": "TrzWPVr2hfwF",
        "colab_type": "code",
        "outputId": "36cd6c3e-b454-4866-a7e7-4c6e86f1b0c1",
        "colab": {
          "base_uri": "https://localhost:8080/",
          "height": 265
        }
      },
      "source": [
        "args = AttrDict()\n",
        "args_dict = {\n",
        "            'image_size':32,  \n",
        "            'image_channel':1,\n",
        "            'g_noise_size':100,\n",
        "            'num_fix_samples':1,\n",
        "            # 'opt_lr':0.0003,\n",
        "            'g_lr':0.001,\n",
        "            'd_lr':0.001,\n",
        "            # 'opt_beta1':0.5,\n",
        "            # 'opt_beta2':0.999,\n",
        "            'batch_size':32, \n",
        "            'sample_dir': 'samples_gan',\n",
        "            'log_step':200,\n",
        "            'sample_every':200,\n",
        "            'epochs':50}\n",
        "\n",
        "args.update(args_dict)\n",
        "args.print_()\n",
        "G, D = train_model(args)"
      ],
      "execution_count": 0,
      "outputs": [
        {
          "output_type": "display_data",
          "data": {
            "image/png": "[encoded data removed]",
            "text/plain": [
              "<Figure size 432x288 with 1 Axes>"
            ]
          },
          "metadata": {
            "tags": []
          }
        }
      ]
    }
  ]
}